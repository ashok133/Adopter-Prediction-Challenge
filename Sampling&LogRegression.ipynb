{
  "nbformat": 4,
  "nbformat_minor": 0,
  "metadata": {
    "colab": {
      "name": "Sampling&LogRegression.ipynb",
      "version": "0.3.2",
      "provenance": [],
      "collapsed_sections": [],
      "toc_visible": true
    },
    "kernelspec": {
      "name": "python3",
      "display_name": "Python 3"
    },
    "accelerator": "GPU"
  },
  "cells": [
    {
      "metadata": {
        "id": "V1rh8exUxxpk",
        "colab_type": "text"
      },
      "cell_type": "markdown",
      "source": [
        "\n",
        "## **Adopter Prediction Challenge**\n",
        "\n",
        " ~ Ankita, Ashok, Kaydee, Young\n",
        " \n",
        " ---\n",
        "\n",
        "Website XYZ, a music-listening social networking website, follows the “freemium” business model. The website offers basic services for free, and provides a number of additional premium capabilities for a monthly subscription fee. We are interested in predicting which people would be likely to convert from free users to premium subscribers in the next 6 month period, if they are targeted by our promotional campaign.\n",
        "\n",
        "### Dataset\n",
        "\n",
        "We have a dataset from the previous marketing campaign which targeted a number of non-subscribers.\n",
        "\n",
        "Features: \n",
        "\n",
        "```\n",
        "1.   adopter (predictor class)\n",
        "2.   user_id\n",
        "3.   age\n",
        "4.   male\n",
        "5.   friend_cnt\n",
        "6.   avg_friend_age\n",
        "7.   avg_friend_male\n",
        "8.   friend_country_cnt\n",
        "9.   subscriber_friend_cnt\n",
        "10.   songsListened\n",
        "11.   lovedTracks\n",
        "12.   posts\n",
        "13.   playlists\n",
        "14.   shouts\n",
        "15.   good_country\n",
        "16.   tenure\n",
        "17.   *other delta variables*\n",
        "```\n",
        "\n",
        "\n",
        "\n",
        "### Task\n",
        "\n",
        "The task is to build the best predictive model for the next marketing campaign, i.e., for predicting likely `adopters` (that is, which current non- subscribers are likely to respond to the marketing campaign and sign up for the premium service within 6 months after the campaign).\n",
        "\n",
        "---"
      ]
    },
    {
      "metadata": {
        "id": "c0lAOQ2b0Xvf",
        "colab_type": "text"
      },
      "cell_type": "markdown",
      "source": [
        "### EDA\n",
        "\n",
        "Performing some rudimentary EDA"
      ]
    },
    {
      "metadata": {
        "id": "7BFSsGGrrAWo",
        "colab_type": "code",
        "outputId": "bba3c2f6-f90a-4e7d-bb7b-bc0d84584a3e",
        "colab": {
          "base_uri": "https://localhost:8080/",
          "height": 105
        }
      },
      "cell_type": "code",
      "source": [
        "!pip3 install sklearn"
      ],
      "execution_count": 1,
      "outputs": [
        {
          "output_type": "stream",
          "text": [
            "Requirement already satisfied: sklearn in /usr/local/lib/python3.6/dist-packages (0.0)\n",
            "Requirement already satisfied: scikit-learn in /usr/local/lib/python3.6/dist-packages (from sklearn) (0.20.2)\n",
            "Requirement already satisfied: numpy>=1.8.2 in /usr/local/lib/python3.6/dist-packages (from scikit-learn->sklearn) (1.14.6)\n",
            "Requirement already satisfied: scipy>=0.13.3 in /usr/local/lib/python3.6/dist-packages (from scikit-learn->sklearn) (1.1.0)\n"
          ],
          "name": "stdout"
        }
      ]
    },
    {
      "metadata": {
        "id": "z5jYBuZXxrl-",
        "colab_type": "code",
        "colab": {}
      },
      "cell_type": "code",
      "source": [
        "import pandas as pd\n",
        "import numpy as np\n",
        "import matplotlib.pyplot as plt\n",
        "import itertools\n",
        "\n",
        "from google.colab import drive\n",
        "from sklearn import preprocessing\n",
        "from sklearn.model_selection import train_test_split\n",
        "from sklearn.linear_model import LogisticRegression\n",
        "from sklearn.model_selection import KFold, cross_val_score\n",
        "from sklearn.metrics import confusion_matrix, precision_recall_curve, roc_auc_score, roc_curve, classification_report, recall_score, f1_score\n",
        "\n",
        "from imblearn.over_sampling import SMOTE"
      ],
      "execution_count": 0,
      "outputs": []
    },
    {
      "metadata": {
        "id": "biD6vPF8wkO_",
        "colab_type": "code",
        "outputId": "d888d785-ad1d-4441-bb93-a928f21954cd",
        "colab": {
          "base_uri": "https://localhost:8080/",
          "height": 253
        }
      },
      "cell_type": "code",
      "source": [
        "#drive.mount('/content/drive/')\n",
        "\n",
        "# data = pd.read_csv('https://raw.githubusercontent.com/ashok133/Adopter-Prediction-Challenge/master/LabelData.csv')\n",
        "data = pd.read_csv('https://drive.google.com/uc?export=view&id=1IcXGkzaVFFMYCzauBLZ7ZQiH32EmJedR')\n",
        "\n",
        "data.head()"
      ],
      "execution_count": 3,
      "outputs": [
        {
          "output_type": "execute_result",
          "data": {
            "text/html": [
              "<div>\n",
              "<style scoped>\n",
              "    .dataframe tbody tr th:only-of-type {\n",
              "        vertical-align: middle;\n",
              "    }\n",
              "\n",
              "    .dataframe tbody tr th {\n",
              "        vertical-align: top;\n",
              "    }\n",
              "\n",
              "    .dataframe thead th {\n",
              "        text-align: right;\n",
              "    }\n",
              "</style>\n",
              "<table border=\"1\" class=\"dataframe\">\n",
              "  <thead>\n",
              "    <tr style=\"text-align: right;\">\n",
              "      <th></th>\n",
              "      <th>user_id</th>\n",
              "      <th>age</th>\n",
              "      <th>male</th>\n",
              "      <th>friend_cnt</th>\n",
              "      <th>avg_friend_age</th>\n",
              "      <th>avg_friend_male</th>\n",
              "      <th>friend_country_cnt</th>\n",
              "      <th>subscriber_friend_cnt</th>\n",
              "      <th>songsListened</th>\n",
              "      <th>lovedTracks</th>\n",
              "      <th>...</th>\n",
              "      <th>delta_subscriber_friend_cnt</th>\n",
              "      <th>delta_songsListened</th>\n",
              "      <th>delta_lovedTracks</th>\n",
              "      <th>delta_posts</th>\n",
              "      <th>delta_playlists</th>\n",
              "      <th>delta_shouts</th>\n",
              "      <th>tenure</th>\n",
              "      <th>good_country</th>\n",
              "      <th>delta_good_country</th>\n",
              "      <th>adopter</th>\n",
              "    </tr>\n",
              "  </thead>\n",
              "  <tbody>\n",
              "    <tr>\n",
              "      <th>0</th>\n",
              "      <td>10</td>\n",
              "      <td>24</td>\n",
              "      <td>0</td>\n",
              "      <td>20</td>\n",
              "      <td>26.333333</td>\n",
              "      <td>0.777778</td>\n",
              "      <td>6</td>\n",
              "      <td>0</td>\n",
              "      <td>37804</td>\n",
              "      <td>4</td>\n",
              "      <td>...</td>\n",
              "      <td>0</td>\n",
              "      <td>54</td>\n",
              "      <td>0</td>\n",
              "      <td>0</td>\n",
              "      <td>0</td>\n",
              "      <td>0</td>\n",
              "      <td>79</td>\n",
              "      <td>0</td>\n",
              "      <td>0</td>\n",
              "      <td>0</td>\n",
              "    </tr>\n",
              "    <tr>\n",
              "      <th>1</th>\n",
              "      <td>58</td>\n",
              "      <td>29</td>\n",
              "      <td>1</td>\n",
              "      <td>12</td>\n",
              "      <td>26.900000</td>\n",
              "      <td>0.818182</td>\n",
              "      <td>6</td>\n",
              "      <td>1</td>\n",
              "      <td>15955</td>\n",
              "      <td>19</td>\n",
              "      <td>...</td>\n",
              "      <td>0</td>\n",
              "      <td>802</td>\n",
              "      <td>0</td>\n",
              "      <td>0</td>\n",
              "      <td>0</td>\n",
              "      <td>1</td>\n",
              "      <td>80</td>\n",
              "      <td>0</td>\n",
              "      <td>0</td>\n",
              "      <td>0</td>\n",
              "    </tr>\n",
              "    <tr>\n",
              "      <th>2</th>\n",
              "      <td>72</td>\n",
              "      <td>22</td>\n",
              "      <td>0</td>\n",
              "      <td>4</td>\n",
              "      <td>21.000000</td>\n",
              "      <td>1.000000</td>\n",
              "      <td>2</td>\n",
              "      <td>0</td>\n",
              "      <td>31441</td>\n",
              "      <td>7</td>\n",
              "      <td>...</td>\n",
              "      <td>0</td>\n",
              "      <td>0</td>\n",
              "      <td>0</td>\n",
              "      <td>0</td>\n",
              "      <td>0</td>\n",
              "      <td>0</td>\n",
              "      <td>53</td>\n",
              "      <td>0</td>\n",
              "      <td>0</td>\n",
              "      <td>0</td>\n",
              "    </tr>\n",
              "    <tr>\n",
              "      <th>3</th>\n",
              "      <td>121</td>\n",
              "      <td>27</td>\n",
              "      <td>0</td>\n",
              "      <td>1</td>\n",
              "      <td>29.000000</td>\n",
              "      <td>1.000000</td>\n",
              "      <td>1</td>\n",
              "      <td>0</td>\n",
              "      <td>0</td>\n",
              "      <td>0</td>\n",
              "      <td>...</td>\n",
              "      <td>0</td>\n",
              "      <td>0</td>\n",
              "      <td>0</td>\n",
              "      <td>0</td>\n",
              "      <td>0</td>\n",
              "      <td>0</td>\n",
              "      <td>59</td>\n",
              "      <td>0</td>\n",
              "      <td>0</td>\n",
              "      <td>0</td>\n",
              "    </tr>\n",
              "    <tr>\n",
              "      <th>4</th>\n",
              "      <td>137</td>\n",
              "      <td>22</td>\n",
              "      <td>1</td>\n",
              "      <td>4</td>\n",
              "      <td>21.250000</td>\n",
              "      <td>0.750000</td>\n",
              "      <td>1</td>\n",
              "      <td>0</td>\n",
              "      <td>774</td>\n",
              "      <td>0</td>\n",
              "      <td>...</td>\n",
              "      <td>0</td>\n",
              "      <td>0</td>\n",
              "      <td>0</td>\n",
              "      <td>0</td>\n",
              "      <td>0</td>\n",
              "      <td>0</td>\n",
              "      <td>60</td>\n",
              "      <td>0</td>\n",
              "      <td>0</td>\n",
              "      <td>0</td>\n",
              "    </tr>\n",
              "  </tbody>\n",
              "</table>\n",
              "<p>5 rows × 27 columns</p>\n",
              "</div>"
            ],
            "text/plain": [
              "   user_id  age  male  friend_cnt  avg_friend_age  avg_friend_male  \\\n",
              "0       10   24     0          20       26.333333         0.777778   \n",
              "1       58   29     1          12       26.900000         0.818182   \n",
              "2       72   22     0           4       21.000000         1.000000   \n",
              "3      121   27     0           1       29.000000         1.000000   \n",
              "4      137   22     1           4       21.250000         0.750000   \n",
              "\n",
              "   friend_country_cnt  subscriber_friend_cnt  songsListened  lovedTracks  \\\n",
              "0                   6                      0          37804            4   \n",
              "1                   6                      1          15955           19   \n",
              "2                   2                      0          31441            7   \n",
              "3                   1                      0              0            0   \n",
              "4                   1                      0            774            0   \n",
              "\n",
              "    ...     delta_subscriber_friend_cnt  delta_songsListened  \\\n",
              "0   ...                               0                   54   \n",
              "1   ...                               0                  802   \n",
              "2   ...                               0                    0   \n",
              "3   ...                               0                    0   \n",
              "4   ...                               0                    0   \n",
              "\n",
              "   delta_lovedTracks  delta_posts  delta_playlists  delta_shouts  tenure  \\\n",
              "0                  0            0                0             0      79   \n",
              "1                  0            0                0             1      80   \n",
              "2                  0            0                0             0      53   \n",
              "3                  0            0                0             0      59   \n",
              "4                  0            0                0             0      60   \n",
              "\n",
              "   good_country  delta_good_country  adopter  \n",
              "0             0                   0        0  \n",
              "1             0                   0        0  \n",
              "2             0                   0        0  \n",
              "3             0                   0        0  \n",
              "4             0                   0        0  \n",
              "\n",
              "[5 rows x 27 columns]"
            ]
          },
          "metadata": {
            "tags": []
          },
          "execution_count": 3
        }
      ]
    },
    {
      "metadata": {
        "id": "EcFdkbIv4uae",
        "colab_type": "code",
        "outputId": "73e9a062-d465-499a-a17d-90cfd4db56df",
        "colab": {
          "base_uri": "https://localhost:8080/",
          "height": 9386
        }
      },
      "cell_type": "code",
      "source": [
        "# checking each feature's distribution\n",
        "\n",
        "for col in data.columns:\n",
        "  feature_hist = data[col].hist(bins=10)\n",
        "  print (\"Plotting distribution of {}\".format(col))\n",
        "  plt.show()"
      ],
      "execution_count": 4,
      "outputs": [
        {
          "output_type": "stream",
          "text": [
            "Plotting distribution of user_id\n"
          ],
          "name": "stdout"
        },
        {
          "output_type": "display_data",
          "data": {
            "image/png": "[encoded data removed]",
            "text/plain": [
              "<Figure size 576x396 with 1 Axes>"
            ]
          },
          "metadata": {
            "tags": []
          }
        },
        {
          "output_type": "stream",
          "text": [
            "Plotting distribution of age\n"
          ],
          "name": "stdout"
        },
        {
          "output_type": "display_data",
          "data": {
            "image/png": "[encoded data removed]",
            "text/plain": [
              "<Figure size 576x396 with 1 Axes>"
            ]
          },
          "metadata": {
            "tags": []
          }
        },
        {
          "output_type": "stream",
          "text": [
            "Plotting distribution of male\n"
          ],
          "name": "stdout"
        },
        {
          "output_type": "display_data",
          "data": {
            "image/png": "[encoded data removed]",
            "text/plain": [
              "<Figure size 576x396 with 1 Axes>"
            ]
          },
          "metadata": {
            "tags": []
          }
        },
        {
          "output_type": "stream",
          "text": [
            "Plotting distribution of friend_cnt\n"
          ],
          "name": "stdout"
        },
        {
          "output_type": "display_data",
          "data": {
            "image/png": "[encoded data removed]",
            "text/plain": [
              "<Figure size 576x396 with 1 Axes>"
            ]
          },
          "metadata": {
            "tags": []
          }
        },
        {
          "output_type": "stream",
          "text": [
            "Plotting distribution of avg_friend_age\n"
          ],
          "name": "stdout"
        },
        {
          "output_type": "display_data",
          "data": {
            "image/png": "[encoded data removed]",
            "text/plain": [
              "<Figure size 576x396 with 1 Axes>"
            ]
          },
          "metadata": {
            "tags": []
          }
        },
        {
          "output_type": "stream",
          "text": [
            "Plotting distribution of avg_friend_male\n"
          ],
          "name": "stdout"
        },
        {
          "output_type": "display_data",
          "data": {
            "image/png": "[encoded data removed]",
            "text/plain": [
              "<Figure size 576x396 with 1 Axes>"
            ]
          },
          "metadata": {
            "tags": []
          }
        },
        {
          "output_type": "stream",
          "text": [
            "Plotting distribution of friend_country_cnt\n"
          ],
          "name": "stdout"
        },
        {
          "output_type": "display_data",
          "data": {
            "image/png": "[encoded data removed]",
            "text/plain": [
              "<Figure size 576x396 with 1 Axes>"
            ]
          },
          "metadata": {
            "tags": []
          }
        },
        {
          "output_type": "stream",
          "text": [
            "Plotting distribution of subscriber_friend_cnt\n"
          ],
          "name": "stdout"
        },
        {
          "output_type": "display_data",
          "data": {
            "image/png": "[encoded data removed]",
            "text/plain": [
              "<Figure size 576x396 with 1 Axes>"
            ]
          },
          "metadata": {
            "tags": []
          }
        },
        {
          "output_type": "stream",
          "text": [
            "Plotting distribution of songsListened\n"
          ],
          "name": "stdout"
        },
        {
          "output_type": "display_data",
          "data": {
            "image/png": "[encoded data removed]",
            "text/plain": [
              "<Figure size 576x396 with 1 Axes>"
            ]
          },
          "metadata": {
            "tags": []
          }
        },
        {
          "output_type": "stream",
          "text": [
            "Plotting distribution of lovedTracks\n"
          ],
          "name": "stdout"
        },
        {
          "output_type": "display_data",
          "data": {
            "image/png": "[encoded data removed]",
            "text/plain": [
              "<Figure size 576x396 with 1 Axes>"
            ]
          },
          "metadata": {
            "tags": []
          }
        },
        {
          "output_type": "stream",
          "text": [
            "Plotting distribution of posts\n"
          ],
          "name": "stdout"
        },
        {
          "output_type": "display_data",
          "data": {
            "image/png": "[encoded data removed]",
            "text/plain": [
              "<Figure size 576x396 with 1 Axes>"
            ]
          },
          "metadata": {
            "tags": []
          }
        },
        {
          "output_type": "stream",
          "text": [
            "Plotting distribution of playlists\n"
          ],
          "name": "stdout"
        },
        {
          "output_type": "display_data",
          "data": {
            "image/png": "[encoded data removed]",
            "text/plain": [
              "<Figure size 576x396 with 1 Axes>"
            ]
          },
          "metadata": {
            "tags": []
          }
        },
        {
          "output_type": "stream",
          "text": [
            "Plotting distribution of shouts\n"
          ],
          "name": "stdout"
        },
        {
          "output_type": "display_data",
          "data": {
            "image/png": "[encoded data removed]",
            "text/plain": [
              "<Figure size 576x396 with 1 Axes>"
            ]
          },
          "metadata": {
            "tags": []
          }
        },
        {
          "output_type": "stream",
          "text": [
            "Plotting distribution of delta_friend_cnt\n"
          ],
          "name": "stdout"
        },
        {
          "output_type": "display_data",
          "data": {
            "image/png": "[encoded data removed]",
            "text/plain": [
              "<Figure size 576x396 with 1 Axes>"
            ]
          },
          "metadata": {
            "tags": []
          }
        },
        {
          "output_type": "stream",
          "text": [
            "Plotting distribution of delta_avg_friend_age\n"
          ],
          "name": "stdout"
        },
        {
          "output_type": "display_data",
          "data": {
            "image/png": "[encoded data removed]",
            "text/plain": [
              "<Figure size 576x396 with 1 Axes>"
            ]
          },
          "metadata": {
            "tags": []
          }
        },
        {
          "output_type": "stream",
          "text": [
            "Plotting distribution of delta_avg_friend_male\n"
          ],
          "name": "stdout"
        },
        {
          "output_type": "display_data",
          "data": {
            "image/png": "[encoded data removed]",
            "text/plain": [
              "<Figure size 576x396 with 1 Axes>"
            ]
          },
          "metadata": {
            "tags": []
          }
        },
        {
          "output_type": "stream",
          "text": [
            "Plotting distribution of delta_friend_country_cnt\n"
          ],
          "name": "stdout"
        },
        {
          "output_type": "display_data",
          "data": {
            "image/png": "[encoded data removed]",
            "text/plain": [
              "<Figure size 576x396 with 1 Axes>"
            ]
          },
          "metadata": {
            "tags": []
          }
        },
        {
          "output_type": "stream",
          "text": [
            "Plotting distribution of delta_subscriber_friend_cnt\n"
          ],
          "name": "stdout"
        },
        {
          "output_type": "display_data",
          "data": {
            "image/png": "[encoded data removed]",
            "text/plain": [
              "<Figure size 576x396 with 1 Axes>"
            ]
          },
          "metadata": {
            "tags": []
          }
        },
        {
          "output_type": "stream",
          "text": [
            "Plotting distribution of delta_songsListened\n"
          ],
          "name": "stdout"
        },
        {
          "output_type": "display_data",
          "data": {
            "image/png": "[encoded data removed]",
            "text/plain": [
              "<Figure size 576x396 with 1 Axes>"
            ]
          },
          "metadata": {
            "tags": []
          }
        },
        {
          "output_type": "stream",
          "text": [
            "Plotting distribution of delta_lovedTracks\n"
          ],
          "name": "stdout"
        },
        {
          "output_type": "display_data",
          "data": {
            "image/png": "[encoded data removed]",
            "text/plain": [
              "<Figure size 576x396 with 1 Axes>"
            ]
          },
          "metadata": {
            "tags": []
          }
        },
        {
          "output_type": "stream",
          "text": [
            "Plotting distribution of delta_posts\n"
          ],
          "name": "stdout"
        },
        {
          "output_type": "display_data",
          "data": {
            "image/png": "[encoded data removed]",
            "text/plain": [
              "<Figure size 576x396 with 1 Axes>"
            ]
          },
          "metadata": {
            "tags": []
          }
        },
        {
          "output_type": "stream",
          "text": [
            "Plotting distribution of delta_playlists\n"
          ],
          "name": "stdout"
        },
        {
          "output_type": "display_data",
          "data": {
            "image/png": "[encoded data removed]",
            "text/plain": [
              "<Figure size 576x396 with 1 Axes>"
            ]
          },
          "metadata": {
            "tags": []
          }
        },
        {
          "output_type": "stream",
          "text": [
            "Plotting distribution of delta_shouts\n"
          ],
          "name": "stdout"
        },
        {
          "output_type": "display_data",
          "data": {
            "image/png": "[encoded data removed]",
            "text/plain": [
              "<Figure size 576x396 with 1 Axes>"
            ]
          },
          "metadata": {
            "tags": []
          }
        },
        {
          "output_type": "stream",
          "text": [
            "Plotting distribution of tenure\n"
          ],
          "name": "stdout"
        },
        {
          "output_type": "display_data",
          "data": {
            "image/png": "[encoded data removed]",
            "text/plain": [
              "<Figure size 576x396 with 1 Axes>"
            ]
          },
          "metadata": {
            "tags": []
          }
        },
        {
          "output_type": "stream",
          "text": [
            "Plotting distribution of good_country\n"
          ],
          "name": "stdout"
        },
        {
          "output_type": "display_data",
          "data": {
            "image/png": "[encoded data removed]",
            "text/plain": [
              "<Figure size 576x396 with 1 Axes>"
            ]
          },
          "metadata": {
            "tags": []
          }
        },
        {
          "output_type": "stream",
          "text": [
            "Plotting distribution of delta_good_country\n"
          ],
          "name": "stdout"
        },
        {
          "output_type": "display_data",
          "data": {
            "image/png": "[encoded data removed]",
            "text/plain": [
              "<Figure size 576x396 with 1 Axes>"
            ]
          },
          "metadata": {
            "tags": []
          }
        },
        {
          "output_type": "stream",
          "text": [
            "Plotting distribution of adopter\n"
          ],
          "name": "stdout"
        },
        {
          "output_type": "display_data",
          "data": {
            "image/png": "[encoded data removed]",
            "text/plain": [
              "<Figure size 576x396 with 1 Axes>"
            ]
          },
          "metadata": {
            "tags": []
          }
        }
      ]
    },
    {
      "metadata": {
        "id": "Aj1rABM65XxC",
        "colab_type": "text"
      },
      "cell_type": "markdown",
      "source": [
        "Except for `age`, `avg_friend_age`,  `avg_friend_male` and `tenure`, all other features are heavily imbalanced.\n",
        "\n",
        "Let's check the adopter class."
      ]
    },
    {
      "metadata": {
        "id": "S9Efyqy357AK",
        "colab_type": "code",
        "outputId": "4ce25824-9879-4577-f60e-98ad3199a6d6",
        "colab": {
          "base_uri": "https://localhost:8080/",
          "height": 347
        }
      },
      "cell_type": "code",
      "source": [
        "adopter_hist = data['adopter'].hist(bins=20)\n",
        "plt.show()"
      ],
      "execution_count": 5,
      "outputs": [
        {
          "output_type": "display_data",
          "data": {
            "image/png": "[encoded data removed]",
            "text/plain": [
              "<Figure size 576x396 with 1 Axes>"
            ]
          },
          "metadata": {
            "tags": []
          }
        }
      ]
    },
    {
      "metadata": {
        "id": "Z4KheY2i65fz",
        "colab_type": "text"
      },
      "cell_type": "markdown",
      "source": [
        "  `adopter` class is heavily imbalanced. This calls for some form of resampling. Let's skip feature engineering for now and build a basic model with resampled data to see what can be improved.\n",
        "  "
      ]
    },
    {
      "metadata": {
        "id": "vuPhymnL741M",
        "colab_type": "text"
      },
      "cell_type": "markdown",
      "source": [
        "TODO: Let's normalize the features before resampling. We use minmax normalisation across each colum of the dataframe"
      ]
    },
    {
      "metadata": {
        "id": "bOT-ALiv9rWY",
        "colab_type": "code",
        "outputId": "0a663dd5-178f-4135-ca74-2170ed9af53f",
        "colab": {
          "base_uri": "https://localhost:8080/",
          "height": 476
        }
      },
      "cell_type": "code",
      "source": [
        "## All features\n",
        "\n",
        "list(data)"
      ],
      "execution_count": 6,
      "outputs": [
        {
          "output_type": "execute_result",
          "data": {
            "text/plain": [
              "['user_id',\n",
              " 'age',\n",
              " 'male',\n",
              " 'friend_cnt',\n",
              " 'avg_friend_age',\n",
              " 'avg_friend_male',\n",
              " 'friend_country_cnt',\n",
              " 'subscriber_friend_cnt',\n",
              " 'songsListened',\n",
              " 'lovedTracks',\n",
              " 'posts',\n",
              " 'playlists',\n",
              " 'shouts',\n",
              " 'delta_friend_cnt',\n",
              " 'delta_avg_friend_age',\n",
              " 'delta_avg_friend_male',\n",
              " 'delta_friend_country_cnt',\n",
              " 'delta_subscriber_friend_cnt',\n",
              " 'delta_songsListened',\n",
              " 'delta_lovedTracks',\n",
              " 'delta_posts',\n",
              " 'delta_playlists',\n",
              " 'delta_shouts',\n",
              " 'tenure',\n",
              " 'good_country',\n",
              " 'delta_good_country',\n",
              " 'adopter']"
            ]
          },
          "metadata": {
            "tags": []
          },
          "execution_count": 6
        }
      ]
    },
    {
      "metadata": {
        "id": "ejfqdbI--SJ9",
        "colab_type": "code",
        "outputId": "23d08694-4a4e-4fe1-e7ca-c0ed56ac7285",
        "colab": {
          "base_uri": "https://localhost:8080/",
          "height": 510
        }
      },
      "cell_type": "code",
      "source": [
        "## Checking for missing values\n",
        "\n",
        "def numMissingValues(x):\n",
        "  return sum(x.isnull())\n",
        "\n",
        "print ('Checking missing values in each feature:')\n",
        "print (data.apply(numMissingValues, axis = 0))"
      ],
      "execution_count": 7,
      "outputs": [
        {
          "output_type": "stream",
          "text": [
            "Checking missing values in each feature:\n",
            "user_id                        0\n",
            "age                            0\n",
            "male                           0\n",
            "friend_cnt                     0\n",
            "avg_friend_age                 0\n",
            "avg_friend_male                0\n",
            "friend_country_cnt             0\n",
            "subscriber_friend_cnt          0\n",
            "songsListened                  0\n",
            "lovedTracks                    0\n",
            "posts                          0\n",
            "playlists                      0\n",
            "shouts                         0\n",
            "delta_friend_cnt               0\n",
            "delta_avg_friend_age           0\n",
            "delta_avg_friend_male          0\n",
            "delta_friend_country_cnt       0\n",
            "delta_subscriber_friend_cnt    0\n",
            "delta_songsListened            0\n",
            "delta_lovedTracks              0\n",
            "delta_posts                    0\n",
            "delta_playlists                0\n",
            "delta_shouts                   0\n",
            "tenure                         0\n",
            "good_country                   0\n",
            "delta_good_country             0\n",
            "adopter                        0\n",
            "dtype: int64\n"
          ],
          "name": "stdout"
        }
      ]
    },
    {
      "metadata": {
        "id": "69uAvM6i_oht",
        "colab_type": "code",
        "outputId": "b1dc3d9c-3292-411e-ed50-27c0099553b9",
        "colab": {
          "base_uri": "https://localhost:8080/",
          "height": 346
        }
      },
      "cell_type": "code",
      "source": [
        "data.describe(include = 'all')"
      ],
      "execution_count": 8,
      "outputs": [
        {
          "output_type": "execute_result",
          "data": {
            "text/html": [
              "<div>\n",
              "<style scoped>\n",
              "    .dataframe tbody tr th:only-of-type {\n",
              "        vertical-align: middle;\n",
              "    }\n",
              "\n",
              "    .dataframe tbody tr th {\n",
              "        vertical-align: top;\n",
              "    }\n",
              "\n",
              "    .dataframe thead th {\n",
              "        text-align: right;\n",
              "    }\n",
              "</style>\n",
              "<table border=\"1\" class=\"dataframe\">\n",
              "  <thead>\n",
              "    <tr style=\"text-align: right;\">\n",
              "      <th></th>\n",
              "      <th>user_id</th>\n",
              "      <th>age</th>\n",
              "      <th>male</th>\n",
              "      <th>friend_cnt</th>\n",
              "      <th>avg_friend_age</th>\n",
              "      <th>avg_friend_male</th>\n",
              "      <th>friend_country_cnt</th>\n",
              "      <th>subscriber_friend_cnt</th>\n",
              "      <th>songsListened</th>\n",
              "      <th>lovedTracks</th>\n",
              "      <th>...</th>\n",
              "      <th>delta_subscriber_friend_cnt</th>\n",
              "      <th>delta_songsListened</th>\n",
              "      <th>delta_lovedTracks</th>\n",
              "      <th>delta_posts</th>\n",
              "      <th>delta_playlists</th>\n",
              "      <th>delta_shouts</th>\n",
              "      <th>tenure</th>\n",
              "      <th>good_country</th>\n",
              "      <th>delta_good_country</th>\n",
              "      <th>adopter</th>\n",
              "    </tr>\n",
              "  </thead>\n",
              "  <tbody>\n",
              "    <tr>\n",
              "      <th>count</th>\n",
              "      <td>8.668200e+04</td>\n",
              "      <td>86682.000000</td>\n",
              "      <td>86682.000000</td>\n",
              "      <td>86682.000000</td>\n",
              "      <td>86682.000000</td>\n",
              "      <td>86682.000000</td>\n",
              "      <td>86682.000000</td>\n",
              "      <td>86682.000000</td>\n",
              "      <td>86682.000000</td>\n",
              "      <td>86682.000000</td>\n",
              "      <td>...</td>\n",
              "      <td>86682.000000</td>\n",
              "      <td>86682.000000</td>\n",
              "      <td>86682.000000</td>\n",
              "      <td>86682.000000</td>\n",
              "      <td>86682.000000</td>\n",
              "      <td>86682.000000</td>\n",
              "      <td>86682.000000</td>\n",
              "      <td>86682.000000</td>\n",
              "      <td>86682.000000</td>\n",
              "      <td>86682.000000</td>\n",
              "    </tr>\n",
              "    <tr>\n",
              "      <th>mean</th>\n",
              "      <td>8.547774e+05</td>\n",
              "      <td>23.993067</td>\n",
              "      <td>0.622217</td>\n",
              "      <td>18.988521</td>\n",
              "      <td>24.068308</td>\n",
              "      <td>0.617246</td>\n",
              "      <td>4.040147</td>\n",
              "      <td>0.434935</td>\n",
              "      <td>18193.939849</td>\n",
              "      <td>89.276032</td>\n",
              "      <td>...</td>\n",
              "      <td>-0.021054</td>\n",
              "      <td>942.677188</td>\n",
              "      <td>4.716723</td>\n",
              "      <td>0.279158</td>\n",
              "      <td>0.002757</td>\n",
              "      <td>0.954500</td>\n",
              "      <td>44.350061</td>\n",
              "      <td>0.352045</td>\n",
              "      <td>0.000242</td>\n",
              "      <td>0.017766</td>\n",
              "    </tr>\n",
              "    <tr>\n",
              "      <th>std</th>\n",
              "      <td>4.938304e+05</td>\n",
              "      <td>6.388225</td>\n",
              "      <td>0.484836</td>\n",
              "      <td>57.934430</td>\n",
              "      <td>5.127068</td>\n",
              "      <td>0.318587</td>\n",
              "      <td>5.843532</td>\n",
              "      <td>1.853233</td>\n",
              "      <td>28684.095167</td>\n",
              "      <td>320.788514</td>\n",
              "      <td>...</td>\n",
              "      <td>0.534960</td>\n",
              "      <td>2856.036359</td>\n",
              "      <td>155.648950</td>\n",
              "      <td>43.782235</td>\n",
              "      <td>0.177153</td>\n",
              "      <td>19.209259</td>\n",
              "      <td>19.707058</td>\n",
              "      <td>0.477611</td>\n",
              "      <td>0.034803</td>\n",
              "      <td>0.132101</td>\n",
              "    </tr>\n",
              "    <tr>\n",
              "      <th>min</th>\n",
              "      <td>1.000000e+01</td>\n",
              "      <td>8.000000</td>\n",
              "      <td>0.000000</td>\n",
              "      <td>1.000000</td>\n",
              "      <td>9.000000</td>\n",
              "      <td>0.000000</td>\n",
              "      <td>0.000000</td>\n",
              "      <td>0.000000</td>\n",
              "      <td>0.000000</td>\n",
              "      <td>0.000000</td>\n",
              "      <td>...</td>\n",
              "      <td>-18.000000</td>\n",
              "      <td>-135022.000000</td>\n",
              "      <td>-951.000000</td>\n",
              "      <td>-264.000000</td>\n",
              "      <td>-5.000000</td>\n",
              "      <td>-2752.000000</td>\n",
              "      <td>0.000000</td>\n",
              "      <td>0.000000</td>\n",
              "      <td>-1.000000</td>\n",
              "      <td>0.000000</td>\n",
              "    </tr>\n",
              "    <tr>\n",
              "      <th>25%</th>\n",
              "      <td>4.279675e+05</td>\n",
              "      <td>20.000000</td>\n",
              "      <td>0.000000</td>\n",
              "      <td>3.000000</td>\n",
              "      <td>20.750000</td>\n",
              "      <td>0.428571</td>\n",
              "      <td>1.000000</td>\n",
              "      <td>0.000000</td>\n",
              "      <td>1347.000000</td>\n",
              "      <td>1.000000</td>\n",
              "      <td>...</td>\n",
              "      <td>0.000000</td>\n",
              "      <td>0.000000</td>\n",
              "      <td>0.000000</td>\n",
              "      <td>0.000000</td>\n",
              "      <td>0.000000</td>\n",
              "      <td>0.000000</td>\n",
              "      <td>29.000000</td>\n",
              "      <td>0.000000</td>\n",
              "      <td>0.000000</td>\n",
              "      <td>0.000000</td>\n",
              "    </tr>\n",
              "    <tr>\n",
              "      <th>50%</th>\n",
              "      <td>8.520060e+05</td>\n",
              "      <td>23.000000</td>\n",
              "      <td>1.000000</td>\n",
              "      <td>7.000000</td>\n",
              "      <td>23.000000</td>\n",
              "      <td>0.666667</td>\n",
              "      <td>2.000000</td>\n",
              "      <td>0.000000</td>\n",
              "      <td>7781.000000</td>\n",
              "      <td>15.000000</td>\n",
              "      <td>...</td>\n",
              "      <td>0.000000</td>\n",
              "      <td>0.000000</td>\n",
              "      <td>0.000000</td>\n",
              "      <td>0.000000</td>\n",
              "      <td>0.000000</td>\n",
              "      <td>0.000000</td>\n",
              "      <td>45.000000</td>\n",
              "      <td>0.000000</td>\n",
              "      <td>0.000000</td>\n",
              "      <td>0.000000</td>\n",
              "    </tr>\n",
              "    <tr>\n",
              "      <th>75%</th>\n",
              "      <td>1.282592e+06</td>\n",
              "      <td>26.000000</td>\n",
              "      <td>1.000000</td>\n",
              "      <td>18.000000</td>\n",
              "      <td>26.157895</td>\n",
              "      <td>0.900000</td>\n",
              "      <td>4.000000</td>\n",
              "      <td>0.000000</td>\n",
              "      <td>23583.000000</td>\n",
              "      <td>74.000000</td>\n",
              "      <td>...</td>\n",
              "      <td>0.000000</td>\n",
              "      <td>913.000000</td>\n",
              "      <td>0.000000</td>\n",
              "      <td>0.000000</td>\n",
              "      <td>0.000000</td>\n",
              "      <td>0.000000</td>\n",
              "      <td>59.000000</td>\n",
              "      <td>1.000000</td>\n",
              "      <td>0.000000</td>\n",
              "      <td>0.000000</td>\n",
              "    </tr>\n",
              "    <tr>\n",
              "      <th>max</th>\n",
              "      <td>1.708942e+06</td>\n",
              "      <td>79.000000</td>\n",
              "      <td>1.000000</td>\n",
              "      <td>6437.000000</td>\n",
              "      <td>77.000000</td>\n",
              "      <td>1.000000</td>\n",
              "      <td>122.000000</td>\n",
              "      <td>225.000000</td>\n",
              "      <td>922370.000000</td>\n",
              "      <td>56389.000000</td>\n",
              "      <td>...</td>\n",
              "      <td>19.000000</td>\n",
              "      <td>217876.000000</td>\n",
              "      <td>44900.000000</td>\n",
              "      <td>12702.000000</td>\n",
              "      <td>20.000000</td>\n",
              "      <td>2036.000000</td>\n",
              "      <td>112.000000</td>\n",
              "      <td>1.000000</td>\n",
              "      <td>1.000000</td>\n",
              "      <td>1.000000</td>\n",
              "    </tr>\n",
              "  </tbody>\n",
              "</table>\n",
              "<p>8 rows × 27 columns</p>\n",
              "</div>"
            ],
            "text/plain": [
              "            user_id           age          male    friend_cnt  avg_friend_age  \\\n",
              "count  8.668200e+04  86682.000000  86682.000000  86682.000000    86682.000000   \n",
              "mean   8.547774e+05     23.993067      0.622217     18.988521       24.068308   \n",
              "std    4.938304e+05      6.388225      0.484836     57.934430        5.127068   \n",
              "min    1.000000e+01      8.000000      0.000000      1.000000        9.000000   \n",
              "25%    4.279675e+05     20.000000      0.000000      3.000000       20.750000   \n",
              "50%    8.520060e+05     23.000000      1.000000      7.000000       23.000000   \n",
              "75%    1.282592e+06     26.000000      1.000000     18.000000       26.157895   \n",
              "max    1.708942e+06     79.000000      1.000000   6437.000000       77.000000   \n",
              "\n",
              "       avg_friend_male  friend_country_cnt  subscriber_friend_cnt  \\\n",
              "count     86682.000000        86682.000000           86682.000000   \n",
              "mean          0.617246            4.040147               0.434935   \n",
              "std           0.318587            5.843532               1.853233   \n",
              "min           0.000000            0.000000               0.000000   \n",
              "25%           0.428571            1.000000               0.000000   \n",
              "50%           0.666667            2.000000               0.000000   \n",
              "75%           0.900000            4.000000               0.000000   \n",
              "max           1.000000          122.000000             225.000000   \n",
              "\n",
              "       songsListened   lovedTracks      ...       delta_subscriber_friend_cnt  \\\n",
              "count   86682.000000  86682.000000      ...                      86682.000000   \n",
              "mean    18193.939849     89.276032      ...                         -0.021054   \n",
              "std     28684.095167    320.788514      ...                          0.534960   \n",
              "min         0.000000      0.000000      ...                        -18.000000   \n",
              "25%      1347.000000      1.000000      ...                          0.000000   \n",
              "50%      7781.000000     15.000000      ...                          0.000000   \n",
              "75%     23583.000000     74.000000      ...                          0.000000   \n",
              "max    922370.000000  56389.000000      ...                         19.000000   \n",
              "\n",
              "       delta_songsListened  delta_lovedTracks   delta_posts  delta_playlists  \\\n",
              "count         86682.000000       86682.000000  86682.000000     86682.000000   \n",
              "mean            942.677188           4.716723      0.279158         0.002757   \n",
              "std            2856.036359         155.648950     43.782235         0.177153   \n",
              "min         -135022.000000        -951.000000   -264.000000        -5.000000   \n",
              "25%               0.000000           0.000000      0.000000         0.000000   \n",
              "50%               0.000000           0.000000      0.000000         0.000000   \n",
              "75%             913.000000           0.000000      0.000000         0.000000   \n",
              "max          217876.000000       44900.000000  12702.000000        20.000000   \n",
              "\n",
              "       delta_shouts        tenure  good_country  delta_good_country  \\\n",
              "count  86682.000000  86682.000000  86682.000000        86682.000000   \n",
              "mean       0.954500     44.350061      0.352045            0.000242   \n",
              "std       19.209259     19.707058      0.477611            0.034803   \n",
              "min    -2752.000000      0.000000      0.000000           -1.000000   \n",
              "25%        0.000000     29.000000      0.000000            0.000000   \n",
              "50%        0.000000     45.000000      0.000000            0.000000   \n",
              "75%        0.000000     59.000000      1.000000            0.000000   \n",
              "max     2036.000000    112.000000      1.000000            1.000000   \n",
              "\n",
              "            adopter  \n",
              "count  86682.000000  \n",
              "mean       0.017766  \n",
              "std        0.132101  \n",
              "min        0.000000  \n",
              "25%        0.000000  \n",
              "50%        0.000000  \n",
              "75%        0.000000  \n",
              "max        1.000000  \n",
              "\n",
              "[8 rows x 27 columns]"
            ]
          },
          "metadata": {
            "tags": []
          },
          "execution_count": 8
        }
      ]
    },
    {
      "metadata": {
        "id": "77xnPEBa7_BV",
        "colab_type": "code",
        "colab": {}
      },
      "cell_type": "code",
      "source": [
        "# TODO: Is normalisation needed?\n",
        "#norm_features = ['']\n",
        "\n",
        "#norm_data = (data - data.min) / (df.max() - df.min())\n",
        "#norm_data.head()"
      ],
      "execution_count": 0,
      "outputs": []
    },
    {
      "metadata": {
        "id": "qALN7ocAhD0e",
        "colab_type": "text"
      },
      "cell_type": "markdown",
      "source": [
        "## Resampling the data\n",
        "\n",
        "As the data is heavily imbalanced, we need to resample. We can consider 2 approaches:\n",
        "\n",
        "1.   Undersampling\n",
        "2.   Oversampling\n",
        "\n",
        "There are other sampling techniques (ROSE and SMOTE) that we'll try later. For now, we choose to undersample the data to set a benchmark. "
      ]
    },
    {
      "metadata": {
        "id": "6kvsph_pg3Fb",
        "colab_type": "code",
        "outputId": "ace3dea6-00f9-439f-cde8-0bd09685cda8",
        "colab": {
          "base_uri": "https://localhost:8080/",
          "height": 34
        }
      },
      "cell_type": "code",
      "source": [
        "#TODO: Try ROSE and SMOTE\n",
        "\n",
        "# fetching number of data points in minority class\n",
        "num_minority = len(data[data.adopter == 1])\n",
        "print(num_minority)"
      ],
      "execution_count": 10,
      "outputs": [
        {
          "output_type": "stream",
          "text": [
            "1540\n"
          ],
          "name": "stdout"
        }
      ]
    },
    {
      "metadata": {
        "id": "K5IW8GMIij5h",
        "colab_type": "text"
      },
      "cell_type": "markdown",
      "source": [
        "Number of minority instances = 1540 which is roughly 1.7% of the total number of instances. "
      ]
    },
    {
      "metadata": {
        "id": "BxxWmr1ziid6",
        "colab_type": "code",
        "outputId": "379edee4-7e7d-49a5-891f-72d62fa88ee2",
        "colab": {
          "base_uri": "https://localhost:8080/",
          "height": 68
        }
      },
      "cell_type": "code",
      "source": [
        "# fetching the indices of minority instances\n",
        "adopting_indices = np.array(data[data.adopter == 1].index)\n",
        "\n",
        "# fetching indices of normal instances\n",
        "non_adopting_indices = data[data.adopter == 0].index\n",
        "\n",
        "# randomly select 1540 normal instances to create a 50/50 partitioned balanced dataset\n",
        "random_non_adopting_indices = np.random.choice(non_adopting_indices,\n",
        "                                            num_minority,\n",
        "                                            replace = False)\n",
        "random_non_adopting_indices = np.array(random_non_adopting_indices)\n",
        "\n",
        "# combining both the instance groups (minority and the new random set) \n",
        "undersampled_indices = np.concatenate([adopting_indices, random_non_adopting_indices])\n",
        "\n",
        "# creating the undersampled dataset\n",
        "undersampled_data = data.iloc[undersampled_indices, :]\n",
        "\n",
        "# storing the features(X) and predictor class(y)\n",
        "X_undersample = undersampled_data.iloc[:, undersampled_data.columns != 'adopter']\n",
        "y_undersample = undersampled_data.iloc[:, undersampled_data.columns == 'adopter']\n",
        "\n",
        "print(\"Number of minority instances: {}\\nNumber of normal instances: {} \\nTotal: {}\".format(len(undersampled_data[undersampled_data.adopter == 1]), \n",
        "                                                                                           len(undersampled_data[undersampled_data.adopter == 0]),\n",
        "                                                                                           len(undersampled_data)))"
      ],
      "execution_count": 11,
      "outputs": [
        {
          "output_type": "stream",
          "text": [
            "Number of minority instances: 1540\n",
            "Number of normal instances: 1540 \n",
            "Total: 3080\n"
          ],
          "name": "stdout"
        }
      ]
    },
    {
      "metadata": {
        "id": "XMJkpHLFl8CX",
        "colab_type": "text"
      },
      "cell_type": "markdown",
      "source": [
        "## Splitting data and shoving training data into a log regressor"
      ]
    },
    {
      "metadata": {
        "id": "jb8wNSIrmL4p",
        "colab_type": "code",
        "outputId": "b54cd347-8d20-4f87-bce3-50427b3cbc3b",
        "colab": {
          "base_uri": "https://localhost:8080/",
          "height": 136
        }
      },
      "cell_type": "code",
      "source": [
        "# splitting original dataset into features and predictor\n",
        "X = data.iloc[:, data.columns != 'adopter']\n",
        "y = data.iloc[:, data.columns == 'adopter']\n",
        "\n",
        "# splitting the original dataset for cross-validation (0.7 train, 0.3 test)\n",
        "X_train, X_test, y_train, y_test = train_test_split(X, y, test_size = 0.3, random_state = 0)\n",
        "\n",
        "print (\"Original Data:\")\n",
        "print (\"Number of train instances: {}\".format(len(X_train)))\n",
        "print (\"Number of test instances: {}\".format(len(X_test)))\n",
        "\n",
        "# splitting the undersampled dataset\n",
        "X_train_undersample, X_test_undersample, y_train_undersample, y_test_undersample = train_test_split(X_undersample, y_undersample, test_size = 0.3, random_state = 0)\n",
        "\n",
        "print (\"Undersampled Data:\")\n",
        "print (\"Number of train instances: {}\".format(len(X_train_undersample)))\n",
        "print (\"Number of test instances: {}\".format(len(X_test_undersample)))\n",
        "print (type(X_train_undersample))\n"
      ],
      "execution_count": 12,
      "outputs": [
        {
          "output_type": "stream",
          "text": [
            "Original Data:\n",
            "Number of train instances: 60677\n",
            "Number of test instances: 26005\n",
            "Undersampled Data:\n",
            "Number of train instances: 2156\n",
            "Number of test instances: 924\n",
            "<class 'pandas.core.frame.DataFrame'>\n"
          ],
          "name": "stdout"
        }
      ]
    },
    {
      "metadata": {
        "id": "BFTLMPOCsnyz",
        "colab_type": "text"
      },
      "cell_type": "markdown",
      "source": [
        "Before we build the model to test our data on, we need to fix on the C - parameter. We will consider recall as the metric to iterate over different C-param value and chose the best C-param that gives the best recall rate. \n",
        "\n",
        "more on C-param here: https://stackoverflow.com/questions/22851316/what-is-the-inverse-of-regularization-strength-in-logistic-regression-how-shoul "
      ]
    },
    {
      "metadata": {
        "id": "Pne9HCeLpM9E",
        "colab_type": "code",
        "colab": {}
      },
      "cell_type": "code",
      "source": [
        "# function to loop over different C-param values and choose the one with best recall score\n",
        "c_params = [0.01, 0.1, 1, 10, 100, 1000]\n",
        "\n",
        "def mean_recalls_with_c_params(X_train, y_train):\n",
        "  \n",
        "  '''\n",
        "  Trains a regressor with KFold for multiple C parameter values and returns the C-param for the regressor with best recall\n",
        "  '''\n",
        "  \n",
        "  # getting the different fold for KFold\n",
        "  fold = KFold(n_splits=5, random_state=None, shuffle=False)\n",
        "  \n",
        "  # storing mean recall rates in a dataframe\n",
        "  recall_results = pd.DataFrame(index = range(len(c_params), 2),\n",
        "                               columns = ['C-param value', 'Mean recall score'])\n",
        "  recall_results['C-param values'] = c_params\n",
        "  \n",
        "  temp = 0\n",
        "  for c_param in c_params:\n",
        "\n",
        "    print (\"C = {}\\n ----------\".format(c_param))\n",
        "    recall_scores = []\n",
        "    \n",
        "    # building a model on each fold\n",
        "    # since we have a lot of features, we'll use l1 regularisation instead of l2\n",
        "    for iteration, indices in enumerate(fold.split(X_train), start = 1):\n",
        "      log_regressor = LogisticRegression(C = c_param,\n",
        "                                        penalty = 'l1')\n",
        "      # indices[0] contain the train data indices for the current fold\n",
        "      log_regressor.fit(X_train.iloc[indices[0], :],\n",
        "            y_train.iloc[indices[0], :].values.ravel())\n",
        "      \n",
        "      # indices[1] contain teh test data\n",
        "      y_pred = log_regressor.predict(X_train.iloc[indices[1], :].values)\n",
        "      \n",
        "      # calculate the recall scores and store in recall_rates\n",
        "      recall_score_current = recall_score(y_train.iloc[indices[1], :].values,\n",
        "                                         y_pred)\n",
        "      recall_scores.append(recall_score_current)\n",
        "      \n",
        "      print (\"Iteration {} has recall score: {}\".format(iteration, recall_score_current))\n",
        "      \n",
        "    # storing the mean recall score after each fold\n",
        "    recall_results.ix[temp, 'Mean recall score'] = np.mean(recall_scores)\n",
        "    temp += 1\n",
        "    print ('Mean recall for C = {}: {}'.format(c_param, np.mean(recall_scores)))\n",
        "    \n",
        "  # fetching the best C-param \n",
        "  c_param_optimal = recall_results.loc[recall_results['Mean recall score'].astype('float64').idxmax()]['C-param value']\n",
        "  print (\"Best C-param: {}\".format(c_param_optimal))\n",
        "  return c_param_optimal  \n",
        "    "
      ],
      "execution_count": 0,
      "outputs": []
    },
    {
      "metadata": {
        "id": "8FTOg0nqzfQp",
        "colab_type": "code",
        "outputId": "7f3e960f-75cd-49e3-f551-f8cee95a0c2b",
        "colab": {
          "base_uri": "https://localhost:8080/",
          "height": 2009
        }
      },
      "cell_type": "code",
      "source": [
        "c_optimal = mean_recalls_with_c_params(X_train_undersample, y_train_undersample)"
      ],
      "execution_count": 14,
      "outputs": [
        {
          "output_type": "stream",
          "text": [
            "C = 0.01\n",
            " ----------\n",
            "Iteration 1 has recall score: 0.5277777777777778\n",
            "Iteration 2 has recall score: 0.5459183673469388\n",
            "Iteration 3 has recall score: 0.5070422535211268\n",
            "Iteration 4 has recall score: 0.5305164319248826\n"
          ],
          "name": "stdout"
        },
        {
          "output_type": "stream",
          "text": [
            "/usr/local/lib/python3.6/dist-packages/sklearn/linear_model/logistic.py:433: FutureWarning: Default solver will be changed to 'lbfgs' in 0.22. Specify a solver to silence this warning.\n",
            "  FutureWarning)\n",
            "/usr/local/lib/python3.6/dist-packages/sklearn/linear_model/logistic.py:433: FutureWarning: Default solver will be changed to 'lbfgs' in 0.22. Specify a solver to silence this warning.\n",
            "  FutureWarning)\n",
            "/usr/local/lib/python3.6/dist-packages/sklearn/linear_model/logistic.py:433: FutureWarning: Default solver will be changed to 'lbfgs' in 0.22. Specify a solver to silence this warning.\n",
            "  FutureWarning)\n",
            "/usr/local/lib/python3.6/dist-packages/sklearn/linear_model/logistic.py:433: FutureWarning: Default solver will be changed to 'lbfgs' in 0.22. Specify a solver to silence this warning.\n",
            "  FutureWarning)\n",
            "/usr/local/lib/python3.6/dist-packages/sklearn/linear_model/logistic.py:433: FutureWarning: Default solver will be changed to 'lbfgs' in 0.22. Specify a solver to silence this warning.\n",
            "  FutureWarning)\n"
          ],
          "name": "stderr"
        },
        {
          "output_type": "stream",
          "text": [
            "Iteration 5 has recall score: 0.47804878048780486\n",
            "Mean recall for C = 0.01: 0.5178607222117062\n",
            "C = 0.1\n",
            " ----------\n",
            "Iteration 1 has recall score: 0.5879629629629629\n",
            "Iteration 2 has recall score: 0.6275510204081632\n"
          ],
          "name": "stdout"
        },
        {
          "output_type": "stream",
          "text": [
            "/usr/local/lib/python3.6/dist-packages/ipykernel_launcher.py:43: DeprecationWarning: \n",
            ".ix is deprecated. Please use\n",
            ".loc for label based indexing or\n",
            ".iloc for positional indexing\n",
            "\n",
            "See the documentation here:\n",
            "http://pandas.pydata.org/pandas-docs/stable/indexing.html#ix-indexer-is-deprecated\n",
            "/usr/local/lib/python3.6/dist-packages/sklearn/linear_model/logistic.py:433: FutureWarning: Default solver will be changed to 'lbfgs' in 0.22. Specify a solver to silence this warning.\n",
            "  FutureWarning)\n",
            "/usr/local/lib/python3.6/dist-packages/sklearn/linear_model/logistic.py:433: FutureWarning: Default solver will be changed to 'lbfgs' in 0.22. Specify a solver to silence this warning.\n",
            "  FutureWarning)\n",
            "/usr/local/lib/python3.6/dist-packages/sklearn/linear_model/logistic.py:433: FutureWarning: Default solver will be changed to 'lbfgs' in 0.22. Specify a solver to silence this warning.\n",
            "  FutureWarning)\n"
          ],
          "name": "stderr"
        },
        {
          "output_type": "stream",
          "text": [
            "Iteration 3 has recall score: 0.539906103286385\n",
            "Iteration 4 has recall score: 0.5305164319248826\n",
            "Iteration 5 has recall score: 0.5902439024390244\n",
            "Mean recall for C = 0.1: 0.5752360842042836\n",
            "C = 1\n",
            " ----------\n"
          ],
          "name": "stdout"
        },
        {
          "output_type": "stream",
          "text": [
            "/usr/local/lib/python3.6/dist-packages/sklearn/linear_model/logistic.py:433: FutureWarning: Default solver will be changed to 'lbfgs' in 0.22. Specify a solver to silence this warning.\n",
            "  FutureWarning)\n",
            "/usr/local/lib/python3.6/dist-packages/sklearn/linear_model/logistic.py:433: FutureWarning: Default solver will be changed to 'lbfgs' in 0.22. Specify a solver to silence this warning.\n",
            "  FutureWarning)\n",
            "/usr/local/lib/python3.6/dist-packages/sklearn/linear_model/logistic.py:433: FutureWarning: Default solver will be changed to 'lbfgs' in 0.22. Specify a solver to silence this warning.\n",
            "  FutureWarning)\n"
          ],
          "name": "stderr"
        },
        {
          "output_type": "stream",
          "text": [
            "Iteration 1 has recall score: 0.5787037037037037\n",
            "Iteration 2 has recall score: 0.6224489795918368\n",
            "Iteration 3 has recall score: 0.539906103286385\n",
            "Iteration 4 has recall score: 0.5305164319248826\n"
          ],
          "name": "stdout"
        },
        {
          "output_type": "stream",
          "text": [
            "/usr/local/lib/python3.6/dist-packages/sklearn/linear_model/logistic.py:433: FutureWarning: Default solver will be changed to 'lbfgs' in 0.22. Specify a solver to silence this warning.\n",
            "  FutureWarning)\n",
            "/usr/local/lib/python3.6/dist-packages/sklearn/linear_model/logistic.py:433: FutureWarning: Default solver will be changed to 'lbfgs' in 0.22. Specify a solver to silence this warning.\n",
            "  FutureWarning)\n",
            "/usr/local/lib/python3.6/dist-packages/sklearn/linear_model/logistic.py:433: FutureWarning: Default solver will be changed to 'lbfgs' in 0.22. Specify a solver to silence this warning.\n",
            "  FutureWarning)\n",
            "/usr/local/lib/python3.6/dist-packages/sklearn/linear_model/logistic.py:433: FutureWarning: Default solver will be changed to 'lbfgs' in 0.22. Specify a solver to silence this warning.\n",
            "  FutureWarning)\n"
          ],
          "name": "stderr"
        },
        {
          "output_type": "stream",
          "text": [
            "Iteration 5 has recall score: 0.6048780487804878\n",
            "Mean recall for C = 1: 0.5752906534574592\n",
            "C = 10\n",
            " ----------\n",
            "Iteration 1 has recall score: 0.5972222222222222\n",
            "Iteration 2 has recall score: 0.6326530612244898\n",
            "Iteration 3 has recall score: 0.5492957746478874\n"
          ],
          "name": "stdout"
        },
        {
          "output_type": "stream",
          "text": [
            "/usr/local/lib/python3.6/dist-packages/sklearn/linear_model/logistic.py:433: FutureWarning: Default solver will be changed to 'lbfgs' in 0.22. Specify a solver to silence this warning.\n",
            "  FutureWarning)\n",
            "/usr/local/lib/python3.6/dist-packages/sklearn/linear_model/logistic.py:433: FutureWarning: Default solver will be changed to 'lbfgs' in 0.22. Specify a solver to silence this warning.\n",
            "  FutureWarning)\n",
            "/usr/local/lib/python3.6/dist-packages/sklearn/linear_model/logistic.py:433: FutureWarning: Default solver will be changed to 'lbfgs' in 0.22. Specify a solver to silence this warning.\n",
            "  FutureWarning)\n",
            "/usr/local/lib/python3.6/dist-packages/sklearn/linear_model/logistic.py:433: FutureWarning: Default solver will be changed to 'lbfgs' in 0.22. Specify a solver to silence this warning.\n",
            "  FutureWarning)\n"
          ],
          "name": "stderr"
        },
        {
          "output_type": "stream",
          "text": [
            "Iteration 4 has recall score: 0.5211267605633803\n",
            "Iteration 5 has recall score: 0.6048780487804878\n",
            "Mean recall for C = 10: 0.5810351734876936\n",
            "C = 100\n",
            " ----------\n",
            "Iteration 1 has recall score: 0.5972222222222222\n"
          ],
          "name": "stdout"
        },
        {
          "output_type": "stream",
          "text": [
            "/usr/local/lib/python3.6/dist-packages/sklearn/linear_model/logistic.py:433: FutureWarning: Default solver will be changed to 'lbfgs' in 0.22. Specify a solver to silence this warning.\n",
            "  FutureWarning)\n",
            "/usr/local/lib/python3.6/dist-packages/sklearn/linear_model/logistic.py:433: FutureWarning: Default solver will be changed to 'lbfgs' in 0.22. Specify a solver to silence this warning.\n",
            "  FutureWarning)\n",
            "/usr/local/lib/python3.6/dist-packages/sklearn/linear_model/logistic.py:433: FutureWarning: Default solver will be changed to 'lbfgs' in 0.22. Specify a solver to silence this warning.\n",
            "  FutureWarning)\n"
          ],
          "name": "stderr"
        },
        {
          "output_type": "stream",
          "text": [
            "Iteration 2 has recall score: 0.6326530612244898\n",
            "Iteration 3 has recall score: 0.5492957746478874\n",
            "Iteration 4 has recall score: 0.5211267605633803\n"
          ],
          "name": "stdout"
        },
        {
          "output_type": "stream",
          "text": [
            "/usr/local/lib/python3.6/dist-packages/sklearn/linear_model/logistic.py:433: FutureWarning: Default solver will be changed to 'lbfgs' in 0.22. Specify a solver to silence this warning.\n",
            "  FutureWarning)\n",
            "/usr/local/lib/python3.6/dist-packages/sklearn/linear_model/logistic.py:433: FutureWarning: Default solver will be changed to 'lbfgs' in 0.22. Specify a solver to silence this warning.\n",
            "  FutureWarning)\n",
            "/usr/local/lib/python3.6/dist-packages/sklearn/linear_model/logistic.py:433: FutureWarning: Default solver will be changed to 'lbfgs' in 0.22. Specify a solver to silence this warning.\n",
            "  FutureWarning)\n"
          ],
          "name": "stderr"
        },
        {
          "output_type": "stream",
          "text": [
            "Iteration 5 has recall score: 0.6048780487804878\n",
            "Mean recall for C = 100: 0.5810351734876936\n",
            "C = 1000\n",
            " ----------\n",
            "Iteration 1 has recall score: 0.5972222222222222\n",
            "Iteration 2 has recall score: 0.6326530612244898\n",
            "Iteration 3 has recall score: 0.5492957746478874\n"
          ],
          "name": "stdout"
        },
        {
          "output_type": "stream",
          "text": [
            "/usr/local/lib/python3.6/dist-packages/sklearn/linear_model/logistic.py:433: FutureWarning: Default solver will be changed to 'lbfgs' in 0.22. Specify a solver to silence this warning.\n",
            "  FutureWarning)\n",
            "/usr/local/lib/python3.6/dist-packages/sklearn/linear_model/logistic.py:433: FutureWarning: Default solver will be changed to 'lbfgs' in 0.22. Specify a solver to silence this warning.\n",
            "  FutureWarning)\n",
            "/usr/local/lib/python3.6/dist-packages/sklearn/linear_model/logistic.py:433: FutureWarning: Default solver will be changed to 'lbfgs' in 0.22. Specify a solver to silence this warning.\n",
            "  FutureWarning)\n",
            "/usr/local/lib/python3.6/dist-packages/sklearn/linear_model/logistic.py:433: FutureWarning: Default solver will be changed to 'lbfgs' in 0.22. Specify a solver to silence this warning.\n",
            "  FutureWarning)\n"
          ],
          "name": "stderr"
        },
        {
          "output_type": "stream",
          "text": [
            "Iteration 4 has recall score: 0.5211267605633803\n",
            "Iteration 5 has recall score: 0.5951219512195122\n",
            "Mean recall for C = 1000: 0.5790839539754985\n",
            "Best C-param: nan\n"
          ],
          "name": "stdout"
        },
        {
          "output_type": "stream",
          "text": [
            "/usr/local/lib/python3.6/dist-packages/sklearn/linear_model/logistic.py:433: FutureWarning: Default solver will be changed to 'lbfgs' in 0.22. Specify a solver to silence this warning.\n",
            "  FutureWarning)\n"
          ],
          "name": "stderr"
        }
      ]
    },
    {
      "metadata": {
        "id": "mUjPaUts6VpT",
        "colab_type": "code",
        "colab": {}
      },
      "cell_type": "code",
      "source": [
        "# temp function to plot confusion matrix\n",
        "\n",
        "def plot_conf_matrix(cm, \n",
        "                     classes,\n",
        "                     normalize=False,\n",
        "                     title='Confusion matrix',\n",
        "                     cmap=plt.cm.Blues):\n",
        "    \"\"\"\n",
        "    This function prints and plots the confusion matrix.\n",
        "    Normalization can be applied by setting `normalize=True`.\n",
        "    \"\"\"\n",
        "    \n",
        "    plt.imshow(cm, interpolation='nearest', cmap=cmap)\n",
        "    plt.title(title)\n",
        "    plt.colorbar()\n",
        "    tick_marks = np.arange(len(classes))\n",
        "    plt.xticks(tick_marks, classes, rotation=0)\n",
        "    plt.yticks(tick_marks, classes)\n",
        "\n",
        "    if normalize:\n",
        "        cm = cm.astype('float') / cm.sum(axis=1)[:, np.newaxis]\n",
        "        #print(\"Normalized confusion matrix\")\n",
        "    else:\n",
        "        1#print('Confusion matrix, without normalization')\n",
        "\n",
        "    #print(cm)\n",
        "\n",
        "    thresh = cm.max() / 2.\n",
        "    for i, j in itertools.product(range(cm.shape[0]), range(cm.shape[1])):\n",
        "        plt.text(j, i, cm[i, j],\n",
        "                 horizontalalignment=\"center\",\n",
        "                 color=\"white\" if cm[i, j] > thresh else \"black\")\n",
        "\n",
        "    plt.tight_layout()\n",
        "    plt.ylabel('True label')\n",
        "    plt.xlabel('Predicted label')"
      ],
      "execution_count": 0,
      "outputs": []
    },
    {
      "metadata": {
        "id": "LBWsaFmF6mWC",
        "colab_type": "code",
        "outputId": "692b1a08-6cc0-4e8b-9dd2-ef3491ff1f40",
        "colab": {
          "base_uri": "https://localhost:8080/",
          "height": 537
        }
      },
      "cell_type": "code",
      "source": [
        "\n",
        "lr = LogisticRegression(C = 100, penalty = 'l1')\n",
        "lr.fit(X_train_undersample,y_train_undersample.values.ravel())\n",
        "y_pred_undersample = lr.predict(X_test_undersample.values)\n",
        "\n",
        "# Compute confusion matrix\n",
        "cnf_matrix = confusion_matrix(y_test_undersample,y_pred_undersample)\n",
        "np.set_printoptions(precision=2)\n",
        "\n",
        "recall_val = cnf_matrix[1,1]/(cnf_matrix[1,0]+cnf_matrix[1,1])\n",
        "precision_val = cnf_matrix[1,1]/(cnf_matrix[0,1]+cnf_matrix[1,1])\n",
        "f1_score_val = 2*((recall_val*precision_val)/(recall_val+precision_val))\n",
        "\n",
        "print(\"Recall metric in the testing dataset: {}\".format(recall_val) )\n",
        "print(\"Precision metric in the testing dataset: {}\".format(precision_val))\n",
        "print(\"f-score on the test dataset: {}\".format(f1_score_val) )\n",
        "f1_temp = f1_score(y_test_undersample, y_pred_undersample)\n",
        "print(f1_temp)\n",
        "\n",
        "# print (f1_score_val)\n",
        "# Plot non-normalized confusion matrix\n",
        "class_names = [0,1]\n",
        "plt.figure()\n",
        "plot_conf_matrix(cnf_matrix\n",
        "                      , classes=class_names\n",
        "                      , title='Confusion matrix')\n",
        "plt.show()"
      ],
      "execution_count": 28,
      "outputs": [
        {
          "output_type": "stream",
          "text": [
            "/usr/local/lib/python3.6/dist-packages/sklearn/linear_model/logistic.py:433: FutureWarning: Default solver will be changed to 'lbfgs' in 0.22. Specify a solver to silence this warning.\n",
            "  FutureWarning)\n"
          ],
          "name": "stderr"
        },
        {
          "output_type": "stream",
          "text": [
            "Recall metric in the testing dataset: 0.5714285714285714\n",
            "Precision metric in the testing dataset: 0.743455497382199\n",
            "f-score on the test dataset: 0.646188850967008\n",
            "0.646188850967008\n"
          ],
          "name": "stdout"
        },
        {
          "output_type": "display_data",
          "data": {
            "image/png": "[encoded data removed]",
            "text/plain": [
              "<Figure size 576x396 with 2 Axes>"
            ]
          },
          "metadata": {
            "tags": []
          }
        }
      ]
    },
    {
      "metadata": {
        "id": "FnhawlMZghbA",
        "colab_type": "code",
        "colab": {}
      },
      "cell_type": "code",
      "source": [
        "# testing the model on provided test dataset\n",
        "unseen_data = data = pd.read_csv('https://drive.google.com/uc?export=view&id=1yVPwqGQC2gkhF2bcbue9j3184ryAJRtG')\n",
        "y_pred_unseen_data = lr.predict(unseen_data.values).astype(int)\n",
        "y_pred_unseen_data\n",
        "np.savetxt(\"predictions.csv\", y_pred_unseen_data , delimiter=\",\")\n",
        "from google.colab import files\n",
        "files.download('predictions.csv')"
      ],
      "execution_count": 0,
      "outputs": []
    },
    {
      "metadata": {
        "id": "9UdIopvnk3Wv",
        "colab_type": "code",
        "colab": {
          "base_uri": "https://localhost:8080/",
          "height": 34
        },
        "outputId": "47fcb59e-7a58-4f29-94b9-4b5b2b8c4e11"
      },
      "cell_type": "code",
      "source": [
        "!dir"
      ],
      "execution_count": 30,
      "outputs": [
        {
          "output_type": "stream",
          "text": [
            "predictions.csv  sample_data\n"
          ],
          "name": "stdout"
        }
      ]
    },
    {
      "metadata": {
        "id": "O4oMz3zBM4DT",
        "colab_type": "text"
      },
      "cell_type": "markdown",
      "source": [
        "### Interpreting results\n",
        "\n",
        "We got a recall score of 0.579 on undersampled test dataset. Not bad, but not very good. We can use SMOTE/ADASYN to beat this (hopefully)"
      ]
    },
    {
      "metadata": {
        "id": "WG34yEczNsVC",
        "colab_type": "text"
      },
      "cell_type": "markdown",
      "source": [
        "## SMOTE splitting\n",
        "\n",
        "We'll use SMOTE (Synthetic Minority Oversampling Technique) to create(synthesize) more samples of minority class. The recall score we got earlier might be less as we imputed more than 80% of the data to balance the dataset. "
      ]
    },
    {
      "metadata": {
        "id": "pe2cR4TFOnWB",
        "colab_type": "code",
        "colab": {}
      },
      "cell_type": "code",
      "source": [
        "sm = SMOTE(random_state = 12, ratio = 1.0)\n",
        "X_train_smoted, y_train_smoted = sm.fit_sample(X_train, y_train)\n",
        "# X_train_smoted, y_train_smoted = sm.fit_sample(X_train, y_train.values.ravel())\n",
        "print(type(X_train_smoted))"
      ],
      "execution_count": 0,
      "outputs": []
    },
    {
      "metadata": {
        "id": "1JZ7DMhwQ3s1",
        "colab_type": "code",
        "colab": {}
      },
      "cell_type": "code",
      "source": [
        "# checking the lengths of new training set\n",
        "print (\"Number of SMOTEd training features: {}\".format(len(X_train_smoted)))\n",
        "print (\"Number of SMOTEd test features: {}\".format(len(y_train_smoted)))\n",
        "# print (y_train_smoted)\n",
        "X_train.head()\n",
        "y_train_smoted_non_adopters = y_train_smoted[y_train_smoted == 1]\n",
        "y_train_smoted_adopters = y_train_smoted[y_train_smoted == 0]\n",
        "# print (y_train_smoted_adopters)\n",
        "# print (y_train_smoted_non_adopters)\n",
        "# print (\"Number of SMOTEd training features: {}\".format(len(y_train_smoted[y_train_smoted.adopter == 0])))\n",
        "print (\"Number of SMOTEd non-adopters (adopter = 0): {}\".format(len(y_train_smoted_non_adopters)))\n",
        "print (\"Number of SMOTEd adopters (adopter = 1): {}\".format(len(y_train_smoted_adopters)))"
      ],
      "execution_count": 0,
      "outputs": []
    },
    {
      "metadata": {
        "id": "OQR9mY4pUvEF",
        "colab_type": "text"
      },
      "cell_type": "markdown",
      "source": [
        "We have around 59604 instances each of both the classes, which is better than simple undersampling and having only 2156 instances.\n",
        "\n"
      ]
    },
    {
      "metadata": {
        "id": "hWaUfXtAXDhc",
        "colab_type": "code",
        "colab": {}
      },
      "cell_type": "code",
      "source": [
        "TODO: Convert the train sets to dataframes from ndarray and recaluclate the recalls\n",
        "\n",
        "X_train_smoted\n",
        "X_train.head()"
      ],
      "execution_count": 0,
      "outputs": []
    }
  ]
}